{
 "cells": [
  {
   "cell_type": "code",
   "execution_count": 2,
   "metadata": {},
   "outputs": [],
   "source": [
    "import numpy as np\n",
    "import pandas as pd\n",
    "import scipy \n",
    "from scipy import spatial\n",
    "import matplotlib as plt\n",
    "import re\n",
    "import matplotlib.pyplot as plt \n",
    "from math import exp,sin"
   ]
  },
  {
   "cell_type": "code",
   "execution_count": 38,
   "metadata": {
    "scrolled": true
   },
   "outputs": [
    {
     "name": "stdout",
     "output_type": "stream",
     "text": [
      "[(0.7327387580875756, 6), (0.7770887149698589, 4), (0.8250364469440588, 21), (0.8328165362273942, 10), (0.8396432548525454, 12), (0.8406361854220809, 16), (0.8427572744917122, 20), (0.8644738145642124, 2), (0.8703592552895671, 13), (0.8740118423302576, 14), (0.8804771390665607, 11), (0.8842724875284311, 8), (0.8885443574849294, 19), (0.8951715163278082, 3), (0.9055088817476932, 9), (0.9258750683338899, 7), (0.9402385695332803, 5), (0.9442721787424647, 15), (0.9442721787424647, 18), (0.9527544408738466, 1), (0.956644501523794, 17)]\n",
      "6 4\n"
     ]
    }
   ],
   "source": [
    "file = open('./sentences.txt', 'r')\n",
    "lines = file.readlines()\n",
    "file.close()\n",
    "lines = [list(filter(None,re.split('[^a-z]',line.lower().rstrip()))) for line in lines]\n",
    "words = set(sum(lines,[]))\n",
    "# s = set(list(filter(None,re.split('[^a-z]',x.lower().rstrip())) for x in a))\n",
    "words\n",
    "dict_words = dict((index, word) for index, word in enumerate(words))\n",
    "dict_words\n",
    "\n",
    "arr = pd.DataFrame()\n",
    "df = pd.DataFrame(np.nan, index=dict_words, columns=range(len(lines)))\n",
    "\n",
    "\n",
    "for i, l in enumerate(lines):\n",
    "    k=0\n",
    "#     print(l)\n",
    "    for j in dict_words:\n",
    "        k = l.count(dict_words[j])\n",
    "#         if k : print(j, dict_words[j], k)\n",
    "        df[i][j] = k\n",
    "\n",
    "dists = []\n",
    "for i in range(1,len(lines)):\n",
    "    dist = scipy.spatial.distance.cosine(df[0], df[i])\n",
    "    dists.append((dist,i))\n",
    "#     print(dist, i)\n",
    "\n",
    "# dists\n",
    "dists = sorted(dists)\n",
    "print(dists)\n",
    "# print(dists[0][1], dists[1][1])\n",
    "t = str(dists[0][1])+\" \" + str(dists[1][1])\n",
    "print(t)\n",
    "file = open(\"submission-1.txt\", \"w\")\n",
    "# file.write(dists[0][1], dists[1][1])\n",
    "file.write(t)\n",
    "file.close()\n",
    "# df\n"
   ]
  },
  {
   "cell_type": "code",
   "execution_count": 39,
   "metadata": {},
   "outputs": [],
   "source": [
    "# 1 3.252216865271419454372050382383112364223283647333755616001...\n",
    "# 15 0.635221419578665713346040071214706964842672432259063012505..."
   ]
  },
  {
   "cell_type": "code",
   "execution_count": 11,
   "metadata": {},
   "outputs": [
    {
     "data": {
      "text/plain": [
       "[<matplotlib.lines.Line2D at 0x1d7c3b7ea90>]"
      ]
     },
     "execution_count": 11,
     "metadata": {},
     "output_type": "execute_result"
    },
    {
     "data": {
      "image/png": "[encoded data removed]",
      "text/plain": [
       "<Figure size 432x288 with 1 Axes>"
      ]
     },
     "metadata": {
      "needs_background": "light"
     },
     "output_type": "display_data"
    }
   ],
   "source": [
    "def f(x):\n",
    "    return sin(x / 5) * exp(x / 10) + 5 * exp(-x / 2)\n",
    "def g(x):\n",
    "    s = 0\n",
    "    for i in range(len(c)):\n",
    "        s+=c[i]*x**i\n",
    "    return s\n",
    "\n",
    "x = [1,4,10,15]\n",
    "deg = 3\n",
    "a = np.array([[t**i for i in range(deg+1)] for t in x])\n",
    "b = np.array([f(t) for t in x])\n",
    "\n",
    "c = scipy.linalg.solve(a,b)\n",
    "\n",
    "\n",
    "y = [g(t) for t in x]\n",
    "\n",
    "plt.plot(x, y, marker=\"o\", c=\"g\")\n"
   ]
  },
  {
   "cell_type": "code",
   "execution_count": null,
   "metadata": {},
   "outputs": [],
   "source": []
  }
 ],
 "metadata": {
  "kernelspec": {
   "display_name": "Python 3",
   "language": "python",
   "name": "python3"
  }
 },
 "nbformat": 4,
 "nbformat_minor": 4
}
